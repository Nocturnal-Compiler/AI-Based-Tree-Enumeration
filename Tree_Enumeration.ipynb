{
 "cells": [
  {
   "cell_type": "code",
   "execution_count": 2,
   "id": "05181ecd",
   "metadata": {},
   "outputs": [
    {
     "ename": "ModuleNotFoundError",
     "evalue": "No module named 'ee'",
     "output_type": "error",
     "traceback": [
      "\u001b[1;31m---------------------------------------------------------------------------\u001b[0m",
      "\u001b[1;31mModuleNotFoundError\u001b[0m                       Traceback (most recent call last)",
      "Cell \u001b[1;32mIn[2], line 1\u001b[0m\n\u001b[1;32m----> 1\u001b[0m \u001b[38;5;28;01mimport\u001b[39;00m \u001b[38;5;21;01mee\u001b[39;00m\n\u001b[0;32m      3\u001b[0m \u001b[38;5;66;03m# Authenticate with Earth Engine using your credentials\u001b[39;00m\n\u001b[0;32m      4\u001b[0m ee\u001b[38;5;241m.\u001b[39mAuthenticate()\n",
      "\u001b[1;31mModuleNotFoundError\u001b[0m: No module named 'ee'"
     ]
    }
   ],
   "source": [
    "import ee\n",
    "\n",
    "# Authenticate with Earth Engine using your credentials\n",
    "ee.Authenticate()\n",
    "\n",
    "# Initialize Earth Engine\n",
    "ee.Initialize()\n"
   ]
  },
  {
   "cell_type": "code",
   "execution_count": 2,
   "id": "10da3f28",
   "metadata": {},
   "outputs": [
    {
     "data": {
      "application/vnd.jupyter.widget-view+json": {
       "model_id": "ee31e0771b064dcf820ed51f15d22d16",
       "version_major": 2,
       "version_minor": 0
      },
      "text/plain": [
       "Map(center=[17.385044, 78.486671], controls=(WidgetControl(options=['position', 'transparent_bg'], widget=HBox…"
      ]
     },
     "metadata": {},
     "output_type": "display_data"
    }
   ],
   "source": [
    "import ee\n",
    "import geemap\n",
    "\n",
    "# Create an interactive map centered on Vijayawada\n",
    "#m = geemap.Map(center=(16.499, 80.638), zoom=14)\n",
    "\n",
    "# Create an interactive map centered on Hyderabad\n",
    "m = geemap.Map(center=(17.385044, 78.486671), zoom=10.5)\n",
    "\n",
    "# Display the map\n",
    "m"
   ]
  },
  {
   "cell_type": "code",
   "execution_count": 3,
   "id": "0a876b86",
   "metadata": {},
   "outputs": [
    {
     "name": "stdout",
     "output_type": "stream",
     "text": [
      "Area of the Rectangle in Square Meters: 18926504.48 square meters\n",
      "Area of the Rectangle in Square Kilometers: 18.93 square kilometers\n"
     ]
    }
   ],
   "source": [
    "# Define the region of interest (ROI) by drawing a rectangle on the map\n",
    "roi = m.draw_last_feature.geometry()\n",
    "\n",
    "# Get the drawn rectangle geometry\n",
    "rectangle_geometry = roi\n",
    "\n",
    "# Calculate the area of the rectangle in square meters\n",
    "area_sq_meters = rectangle_geometry.area().getInfo()\n",
    "\n",
    "# Convert area to square kilometers\n",
    "area_sq_km = area_sq_meters / (1000*1000)  # 1 square kilometer = 1,000,000 square meters\n",
    "\n",
    "print(\"Area of the Rectangle in Square Meters:\", f\"{area_sq_meters:.2f} square meters\")\n",
    "print(\"Area of the Rectangle in Square Kilometers:\", f\"{area_sq_km:.2f} square kilometers\")"
   ]
  },
  {
   "cell_type": "code",
   "execution_count": 4,
   "id": "9c9b0f05",
   "metadata": {},
   "outputs": [
    {
     "data": {
      "application/vnd.jupyter.widget-view+json": {
       "model_id": "082673e3003849f0b220965d82579b82",
       "version_major": 2,
       "version_minor": 0
      },
      "text/plain": [
       "Map(center=[17.425718055675187, 78.47475850000585], controls=(WidgetControl(options=['position', 'transparent_…"
      ]
     },
     "metadata": {},
     "output_type": "display_data"
    }
   ],
   "source": [
    "# Define the region of interest (ROI) by drawing a rectangle on the map 'm'\n",
    "roi = m.draw_last_feature.geometry()\n",
    "\n",
    "# Create a new map 'm3' centered on the ROI\n",
    "m3 = geemap.Map(center=(16.499, 80.638), zoom=14)\n",
    "m3.centerObject(roi, 14)\n",
    "\n",
    "# Get Landsat imagery\n",
    "image = ee.ImageCollection('LANDSAT/LC08/C01/T1_SR') \\\n",
    "    .filterDate('2020-01-01', '2020-12-31') \\\n",
    "    .filterBounds(roi) \\\n",
    "    .median()\n",
    "\n",
    "# Calculate NDWI, NDBI, and NDVI\n",
    "ndwi = image.normalizedDifference(['B5', 'B3'])\n",
    "ndbi = image.normalizedDifference(['B5', 'B6'])\n",
    "ndvi = image.normalizedDifference(['B5', 'B4'])\n",
    "\n",
    "# Create masks based on threshold values\n",
    "water_mask = ndwi.gt(0.2)  # Adjust threshold as needed\n",
    "non_vegetation_mask = ndbi.gt(0.2)  # Adjust threshold as needed\n",
    "vegetation_mask = ndvi.gt(0.2)  # Adjust threshold as needed\n",
    "\n",
    "# Combine the masks into a single image\n",
    "result_image = water_mask.add(non_vegetation_mask.multiply(2)).add(vegetation_mask.multiply(3))\n",
    "\n",
    "# Set visualization parameters\n",
    "result_vis_params = {\n",
    "    'min': 1,\n",
    "    'max': 3,\n",
    "    'palette': ['white', 'blue', 'green']\n",
    "}\n",
    "\n",
    "# Display the result image on map 'm3'\n",
    "m3.addLayer(result_image, result_vis_params, 'Land Cover')\n",
    "\n",
    "# Add the ROI (rectangle) with a red outline to map 'm3' on top\n",
    "m3.addLayer(roi, {'color': 'FF0000'}, 'ROI')\n",
    "\n",
    "# Display the map 'm3'\n",
    "m3"
   ]
  },
  {
   "cell_type": "code",
   "execution_count": 5,
   "id": "9ba221f1",
   "metadata": {},
   "outputs": [
    {
     "name": "stdout",
     "output_type": "stream",
     "text": [
      "Percentage of Water: 64.59%\n",
      "Percentage of Non-Vegetation: 28.72%\n",
      "Percentage of Vegetation: 52.48%\n"
     ]
    }
   ],
   "source": [
    "# Calculate percentages\n",
    "percentage_water = water_mask.reduceRegion(\n",
    "    reducer=ee.Reducer.mean(),\n",
    "    geometry=roi,\n",
    "    scale=10\n",
    ").get('nd').getInfo() * 100\n",
    "\n",
    "percentage_non_vegetation = non_vegetation_mask.reduceRegion(\n",
    "    reducer=ee.Reducer.mean(),\n",
    "    geometry=roi,\n",
    "    scale=10\n",
    ").get('nd').getInfo() * 100\n",
    "\n",
    "percentage_vegetation = vegetation_mask.reduceRegion(\n",
    "    reducer=ee.Reducer.mean(),\n",
    "    geometry=roi,\n",
    "    scale=10\n",
    ").get('nd').getInfo() * 100\n",
    "\n",
    "# Print the percentages\n",
    "print(f'Percentage of Water: {percentage_water:.2f}%')\n",
    "print(f'Percentage of Non-Vegetation: {percentage_non_vegetation:.2f}%')\n",
    "print(f'Percentage of Vegetation: {percentage_vegetation:.2f}%')\n"
   ]
  },
  {
   "cell_type": "code",
   "execution_count": null,
   "id": "4bdfb959",
   "metadata": {},
   "outputs": [],
   "source": []
  },
  {
   "cell_type": "code",
   "execution_count": null,
   "id": "76c57897",
   "metadata": {},
   "outputs": [],
   "source": []
  },
  {
   "cell_type": "code",
   "execution_count": null,
   "id": "caf5d13d",
   "metadata": {},
   "outputs": [],
   "source": []
  },
  {
   "cell_type": "code",
   "execution_count": null,
   "id": "6ceeee15",
   "metadata": {},
   "outputs": [],
   "source": []
  },
  {
   "cell_type": "code",
   "execution_count": null,
   "id": "4684e261",
   "metadata": {},
   "outputs": [],
   "source": []
  },
  {
   "cell_type": "code",
   "execution_count": null,
   "id": "96e6060e",
   "metadata": {},
   "outputs": [],
   "source": []
  },
  {
   "cell_type": "code",
   "execution_count": null,
   "id": "5f7cea84",
   "metadata": {},
   "outputs": [],
   "source": []
  },
  {
   "cell_type": "code",
   "execution_count": null,
   "id": "3b1cc844",
   "metadata": {},
   "outputs": [],
   "source": []
  },
  {
   "cell_type": "code",
   "execution_count": null,
   "id": "3fbb1f99",
   "metadata": {},
   "outputs": [],
   "source": []
  },
  {
   "cell_type": "code",
   "execution_count": null,
   "id": "09b213c8",
   "metadata": {},
   "outputs": [],
   "source": []
  },
  {
   "cell_type": "code",
   "execution_count": null,
   "id": "e936687e",
   "metadata": {},
   "outputs": [],
   "source": []
  },
  {
   "cell_type": "code",
   "execution_count": null,
   "id": "410ff260",
   "metadata": {},
   "outputs": [],
   "source": []
  },
  {
   "cell_type": "code",
   "execution_count": null,
   "id": "3565b139",
   "metadata": {},
   "outputs": [],
   "source": []
  },
  {
   "cell_type": "code",
   "execution_count": null,
   "id": "eb2a3a39",
   "metadata": {},
   "outputs": [],
   "source": []
  }
 ],
 "metadata": {
  "kernelspec": {
   "display_name": "Python 3 (ipykernel)",
   "language": "python",
   "name": "python3"
  },
  "language_info": {
   "codemirror_mode": {
    "name": "ipython",
    "version": 3
   },
   "file_extension": ".py",
   "mimetype": "text/x-python",
   "name": "python",
   "nbconvert_exporter": "python",
   "pygments_lexer": "ipython3",
   "version": "3.8.3"
  }
 },
 "nbformat": 4,
 "nbformat_minor": 5
}
